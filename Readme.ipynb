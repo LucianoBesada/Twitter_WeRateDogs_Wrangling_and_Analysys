{
 "cells": [
  {
   "cell_type": "markdown",
   "metadata": {},
   "source": [
    "## Data wrangling, cleaning, analysis and visualization on WeRateDogs Twiter\n",
    "\n",
    "Project developed using three main different sources:\n",
    "1. File on hand: \"twitter-archive-enhanced.csv\"\n",
    "2. File programmatically downloaded from the Internet: \"image-predictions.tsv\"\n",
    "3. Data from Twitter API: \"tweet_json\"\n",
    "\n",
    "For security reasons, credentials on how to access the data on Twitter API are not shared.<br><br>\n",
    "\n",
    "### Packages installed and used\n",
    "- pandas                             1.0.3              \n",
    "- pandas-profiling                   1.4.1 \n",
    "- numpy                              1.18.1 \n",
    "- requests                           2.23.0\n",
    "- tweepy                             3.9.0 \n",
    "- ujson                              1.35\n",
    "- matplotlib                         3.1.3\n",
    "- seaborn                            0.10.1\n",
    "\n"
   ]
  },
  {
   "cell_type": "code",
   "execution_count": null,
   "metadata": {},
   "outputs": [],
   "source": []
  }
 ],
 "metadata": {
  "kernelspec": {
   "display_name": "Python 3",
   "language": "python",
   "name": "python3"
  },
  "language_info": {
   "codemirror_mode": {
    "name": "ipython",
    "version": 3
   },
   "file_extension": ".py",
   "mimetype": "text/x-python",
   "name": "python",
   "nbconvert_exporter": "python",
   "pygments_lexer": "ipython3",
   "version": "3.7.7"
  }
 },
 "nbformat": 4,
 "nbformat_minor": 4
}
